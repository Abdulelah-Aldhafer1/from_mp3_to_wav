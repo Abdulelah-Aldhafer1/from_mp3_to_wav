{
 "cells": [
  {
   "cell_type": "code",
   "execution_count": 1,
   "id": "8ef320e8",
   "metadata": {},
   "outputs": [],
   "source": [
    "from pydub import AudioSegment\n",
    "import os, sys\n"
   ]
  },
  {
   "cell_type": "code",
   "execution_count": 2,
   "id": "06843399",
   "metadata": {},
   "outputs": [],
   "source": [
    "t=\"C:\\\\Users\\\\abood\\Quran_mylist\"\n",
    "l=os.listdir(t)\n",
    "\n",
    "test1=os.listdir(t)"
   ]
  },
  {
   "cell_type": "code",
   "execution_count": 3,
   "id": "f8a7bead",
   "metadata": {},
   "outputs": [
    {
     "data": {
      "text/plain": [
       "['احمد الحداد', 'احمد الحذيفي', 'احمد العجمي']"
      ]
     },
     "execution_count": 3,
     "metadata": {},
     "output_type": "execute_result"
    }
   ],
   "source": [
    "test1"
   ]
  },
  {
   "cell_type": "code",
   "execution_count": null,
   "id": "185e084d",
   "metadata": {},
   "outputs": [],
   "source": [
    "des1=\"G:\\\\My Drive\\\\dataset\"\n",
    "test3=os.listdir(des1)"
   ]
  },
  {
   "cell_type": "code",
   "execution_count": null,
   "id": "3a166b66",
   "metadata": {
    "scrolled": false
   },
   "outputs": [],
   "source": [
    "test3"
   ]
  },
  {
   "cell_type": "code",
   "execution_count": 5,
   "id": "50efb7a9",
   "metadata": {},
   "outputs": [],
   "source": [
    "for x in test1:\n",
    "    ind=\"C:\\\\Users\\\\abood\\Quran_mylist\\\\\"+x\n",
    "    des=\"G:\\\\My Drive\\\\dataset\\\\\"+x #there should be folder with x name\n",
    "    test2=os.listdir(ind)\n",
    "    \n",
    "    for i in range(len(test2)):\n",
    "        s=ind+\"\\\\\"+test2[i]\n",
    "        ds= des+\"\\\\\"+x+str(i+1)+\".wav\"\n",
    "        sound = AudioSegment.from_mp3(s)\n",
    "        sound.export(ds, format=\"wav\")"
   ]
  }
 ],
 "metadata": {
  "kernelspec": {
   "display_name": "Python 3",
   "language": "python",
   "name": "python3"
  },
  "language_info": {
   "codemirror_mode": {
    "name": "ipython",
    "version": 3
   },
   "file_extension": ".py",
   "mimetype": "text/x-python",
   "name": "python",
   "nbconvert_exporter": "python",
   "pygments_lexer": "ipython3",
   "version": "3.8.8"
  }
 },
 "nbformat": 4,
 "nbformat_minor": 5
}
